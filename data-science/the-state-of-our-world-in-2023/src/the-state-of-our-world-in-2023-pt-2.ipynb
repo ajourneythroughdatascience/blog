{
 "cells": [
  {
   "cell_type": "code",
   "execution_count": null,
   "metadata": {},
   "outputs": [],
   "source": [
    "\"\"\"\n",
    "Created on Sat Nov 25 18:46:10 2023\n",
    "\n",
    "@author: Pablo Aguirre\n",
    "\n",
    "GitHub: https://github.com/pabloagn\n",
    "Website: https://pabloagn.com\n",
    "Contact: https://pabloagn.com/contact\n",
    "\n",
    "Part of Blog Article: the-state-of-our-world-in-2023-pt-2\n",
    "\"\"\""
   ]
  }
 ],
 "metadata": {
  "language_info": {
   "name": "python"
  }
 },
 "nbformat": 4,
 "nbformat_minor": 2
}
